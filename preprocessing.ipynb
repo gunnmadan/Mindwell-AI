{
 "cells": [
  {
   "cell_type": "code",
   "execution_count": 1,
   "metadata": {},
   "outputs": [],
   "source": [
    "import pandas as pd"
   ]
  },
  {
   "cell_type": "code",
   "execution_count": 2,
   "metadata": {},
   "outputs": [],
   "source": [
    "activity = pd.read_csv('data/dailyActivity_merged.csv')\n",
    "intensity = pd.read_csv('data/dailyIntensities_merged.csv')\n",
    "steps = pd.read_csv('data/dailySteps_merged.csv')\n",
    "sleep = pd.read_csv('data/sleepDay_merged.csv')\n",
    "heartrate = pd.read_csv('data/heartrate_seconds_merged.csv')"
   ]
  },
  {
   "cell_type": "code",
   "execution_count": 3,
   "metadata": {},
   "outputs": [],
   "source": [
    "activity['ActivityDate'] = pd.to_datetime(activity['ActivityDate'])\n",
    "intensity['ActivityDay'] = pd.to_datetime(intensity['ActivityDay'])\n",
    "steps['ActivityDay'] = pd.to_datetime(steps['ActivityDay'])\n",
    "sleep['SleepDay'] = pd.to_datetime(sleep['SleepDay'], format='%m/%d/%Y %I:%M:%S %p')\n",
    "heartrate['Time'] = pd.to_datetime(heartrate['Time'])\n",
    "#Extract heart rate for merging\n",
    "heartrate['Date'] = heartrate['Time'].dt.date"
   ]
  },
  {
   "cell_type": "code",
   "execution_count": 4,
   "metadata": {},
   "outputs": [],
   "source": [
    "#average heart rate from seconds\n",
    "daily_heartrate = heartrate.groupby(['Id', 'Date'])['Value'].mean().reset_index()\n",
    "daily_heartrate.rename(columns={'Value': 'AverageHeartRate'}, inplace=True)\n",
    "daily_heartrate['Date'] = pd.to_datetime(daily_heartrate['Date'])"
   ]
  },
  {
   "cell_type": "code",
   "execution_count": 5,
   "metadata": {},
   "outputs": [],
   "source": [
    "activity_merged = activity.merge(intensity, how='left', left_on=['Id', 'ActivityDate'], right_on=['Id', 'ActivityDay'])\n",
    "activity_merged = activity_merged.merge(steps, how='left', left_on=['Id', 'ActivityDate'], right_on=['Id', 'ActivityDay'])\n",
    "activity_merged = activity_merged.merge(sleep, how='left', left_on=['Id', 'ActivityDate'], right_on=['Id', 'SleepDay'])\n",
    "activity_merged = activity_merged.merge(daily_heartrate, how='left', left_on=['Id', 'ActivityDate'], right_on=['Id', 'Date'])\n",
    "master_df = activity_merged.copy()"
   ]
  },
  {
   "cell_type": "code",
   "execution_count": 6,
   "metadata": {},
   "outputs": [
    {
     "name": "stdout",
     "output_type": "stream",
     "text": [
      "           Id       Date  TotalSteps  TotalDistance  TrackerDistance  \\\n",
      "0  1503960366 2016-04-12       13162           8.50             8.50   \n",
      "1  1503960366 2016-04-13       10735           6.97             6.97   \n",
      "2  1503960366 2016-04-14       10460           6.74             6.74   \n",
      "3  1503960366 2016-04-15        9762           6.28             6.28   \n",
      "4  1503960366 2016-04-16       12669           8.16             8.16   \n",
      "\n",
      "   LoggedActivitiesDistance  VeryActiveDistance_x  ModeratelyActiveDistance_x  \\\n",
      "0                       0.0                  1.88                        0.55   \n",
      "1                       0.0                  1.57                        0.69   \n",
      "2                       0.0                  2.44                        0.40   \n",
      "3                       0.0                  2.14                        1.26   \n",
      "4                       0.0                  2.71                        0.41   \n",
      "\n",
      "   LightActiveDistance_x  SedentaryActiveDistance_x  ...  VeryActiveMinutes_y  \\\n",
      "0                   6.06                        0.0  ...                   25   \n",
      "1                   4.71                        0.0  ...                   21   \n",
      "2                   3.91                        0.0  ...                   30   \n",
      "3                   2.83                        0.0  ...                   29   \n",
      "4                   5.04                        0.0  ...                   36   \n",
      "\n",
      "   SedentaryActiveDistance_y  LightActiveDistance_y  \\\n",
      "0                        0.0                   6.06   \n",
      "1                        0.0                   4.71   \n",
      "2                        0.0                   3.91   \n",
      "3                        0.0                   2.83   \n",
      "4                        0.0                   5.04   \n",
      "\n",
      "   ModeratelyActiveDistance_y  VeryActiveDistance_y  StepTotal  \\\n",
      "0                        0.55                  1.88      13162   \n",
      "1                        0.69                  1.57      10735   \n",
      "2                        0.40                  2.44      10460   \n",
      "3                        1.26                  2.14       9762   \n",
      "4                        0.41                  2.71      12669   \n",
      "\n",
      "   TotalSleepRecords  TotalMinutesAsleep  TotalTimeInBed  AverageHeartRate  \n",
      "0                1.0               327.0           346.0               NaN  \n",
      "1                2.0               384.0           407.0               NaN  \n",
      "2                NaN                 NaN             NaN               NaN  \n",
      "3                1.0               412.0           442.0               NaN  \n",
      "4                2.0               340.0           367.0               NaN  \n",
      "\n",
      "[5 rows x 28 columns]\n"
     ]
    }
   ],
   "source": [
    "master_df.drop(columns=['ActivityDay_x', 'ActivityDay_y', 'SleepDay', 'Date'], inplace=True, errors='ignore')\n",
    "master_df.rename(columns={'ActivityDate': 'Date'}, inplace=True)\n",
    "\n",
    "print(master_df.head())"
   ]
  },
  {
   "cell_type": "code",
   "execution_count": 7,
   "metadata": {},
   "outputs": [
    {
     "name": "stdout",
     "output_type": "stream",
     "text": [
      "Final dataset saved as 'data/clean_dataset.csv'\n"
     ]
    }
   ],
   "source": [
    "master_df.to_csv('data/clean_dataset.csv', index=False)\n",
    "print(\"Final dataset saved as 'data/clean_dataset.csv'\")"
   ]
  },
  {
   "cell_type": "code",
   "execution_count": 11,
   "metadata": {},
   "outputs": [],
   "source": [
    "activity.rename(columns={'ActivityDate': 'Date'}, inplace=True)\n",
    "intensity.rename(columns={'ActivityDay': 'Date'}, inplace=True)\n",
    "steps.rename(columns={'ActivityDay': 'Date'}, inplace=True)\n",
    "sleep.rename(columns={'SleepDay': 'Date'}, inplace=True)"
   ]
  },
  {
   "cell_type": "code",
   "execution_count": 12,
   "metadata": {},
   "outputs": [],
   "source": [
    "df = activity.merge(intensity, on=['Id', 'Date'], how='left') \\\n",
    "             .merge(steps, on=['Id', 'Date'], how='left') \\\n",
    "             .merge(sleep, on=['Id', 'Date'], how='left') \\\n",
    "             .merge(daily_heartrate, on=['Id', 'Date'], how='left')"
   ]
  },
  {
   "cell_type": "code",
   "execution_count": 13,
   "metadata": {},
   "outputs": [],
   "source": [
    "df['SleepEfficiency'] = (df['TotalMinutesAsleep'] / df['TotalTimeInBed']) * 100"
   ]
  },
  {
   "cell_type": "markdown",
   "metadata": {},
   "source": [
    "**Risk Labeling**\n",
    "\n",
    "*Creating Risk score + Risk Category columns for training data*"
   ]
  },
  {
   "cell_type": "code",
   "execution_count": 15,
   "metadata": {},
   "outputs": [
    {
     "name": "stdout",
     "output_type": "stream",
     "text": [
      "['Id', 'Date', 'TotalSteps', 'TotalDistance', 'TrackerDistance', 'LoggedActivitiesDistance', 'VeryActiveDistance_x', 'ModeratelyActiveDistance_x', 'LightActiveDistance_x', 'SedentaryActiveDistance_x', 'VeryActiveMinutes_x', 'FairlyActiveMinutes_x', 'LightlyActiveMinutes_x', 'SedentaryMinutes_x', 'Calories', 'SedentaryMinutes_y', 'LightlyActiveMinutes_y', 'FairlyActiveMinutes_y', 'VeryActiveMinutes_y', 'SedentaryActiveDistance_y', 'LightActiveDistance_y', 'ModeratelyActiveDistance_y', 'VeryActiveDistance_y', 'StepTotal', 'TotalSleepRecords', 'TotalMinutesAsleep', 'TotalTimeInBed', 'AverageHeartRate', 'SleepEfficiency', 'RiskScore', 'RiskCategory']\n"
     ]
    }
   ],
   "source": [
    "print(df.columns.tolist())\n"
   ]
  },
  {
   "cell_type": "code",
   "execution_count": 16,
   "metadata": {},
   "outputs": [
    {
     "name": "stdout",
     "output_type": "stream",
     "text": [
      "RiskCategory\n",
      "Low Risk       504\n",
      "Medium Risk    438\n",
      "High Risk        1\n",
      "Name: count, dtype: int64\n",
      "New labeled dataset saved as 'clean_dataset_labeled.csv'\n"
     ]
    }
   ],
   "source": [
    "import pandas as pd\n",
    "\n",
    "df = pd.read_csv('clean_dataset.csv')\n",
    "\n",
    "def calculate_risk(row):\n",
    "    score = 0\n",
    "    if row['TotalMinutesAsleep'] <= 300:\n",
    "        score += 1\n",
    "    if row['SleepEfficiency'] <=85:\n",
    "        score += 1\n",
    "    if row ['VeryActiveMinutes_x'] <=20:\n",
    "        score += 1\n",
    "    if row['SedentaryMinutes_x'] >= 1000:\n",
    "        score += 1\n",
    "    if row ['AverageHeartRate'] >= 90:\n",
    "        score += 1\n",
    "    return score\n",
    "\n",
    "df['RiskScore'] = df.apply(calculate_risk, axis=1)\n",
    "\n",
    "def categorize_risk(score):\n",
    "    if score <=1:\n",
    "        return 'Low Risk'\n",
    "    elif score <=3:\n",
    "        return 'Medium Risk'\n",
    "    else:\n",
    "        return 'High Risk'\n",
    "    \n",
    "df['RiskCategory'] = df['RiskScore'].apply(categorize_risk)\n",
    "\n",
    "print(df['RiskCategory'].value_counts())\n",
    "df.to_csv('clean_dataset.csv', index=False)\n",
    "print(\"New labeled dataset saved as 'clean_dataset_labeled.csv'\")"
   ]
  }
 ],
 "metadata": {
  "kernelspec": {
   "display_name": "Python 3",
   "language": "python",
   "name": "python3"
  },
  "language_info": {
   "codemirror_mode": {
    "name": "ipython",
    "version": 3
   },
   "file_extension": ".py",
   "mimetype": "text/x-python",
   "name": "python",
   "nbconvert_exporter": "python",
   "pygments_lexer": "ipython3",
   "version": "3.12.1"
  }
 },
 "nbformat": 4,
 "nbformat_minor": 2
}
